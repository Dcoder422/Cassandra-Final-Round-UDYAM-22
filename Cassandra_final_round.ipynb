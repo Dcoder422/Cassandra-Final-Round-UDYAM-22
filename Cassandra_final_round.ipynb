{
 "cells": [
  {
   "cell_type": "code",
   "execution_count": 2,
   "id": "1aed5465",
   "metadata": {},
   "outputs": [],
   "source": [
    "import pandas as pd\n",
    "import numpy as np\n",
    "import seaborn as sns"
   ]
  },
  {
   "cell_type": "code",
   "execution_count": 3,
   "id": "5d6b5d69",
   "metadata": {},
   "outputs": [],
   "source": [
    "import warnings\n",
    "warnings.filterwarnings('ignore')"
   ]
  },
  {
   "cell_type": "code",
   "execution_count": 4,
   "id": "ec006dd4",
   "metadata": {},
   "outputs": [],
   "source": [
    "from datetime import date"
   ]
  },
  {
   "cell_type": "code",
   "execution_count": 5,
   "id": "da19f18f",
   "metadata": {},
   "outputs": [],
   "source": [
    "df_train=pd.read_csv('trainData.csv')\n",
    "df_test=pd.read_csv('testData.csv')"
   ]
  },
  {
   "cell_type": "code",
   "execution_count": 6,
   "id": "2ad35a7e",
   "metadata": {},
   "outputs": [
    {
     "data": {
      "text/plain": [
       "(1125, 8)"
      ]
     },
     "execution_count": 6,
     "metadata": {},
     "output_type": "execute_result"
    }
   ],
   "source": [
    "df_test.shape"
   ]
  },
  {
   "cell_type": "code",
   "execution_count": 7,
   "id": "25cc3895",
   "metadata": {},
   "outputs": [
    {
     "data": {
      "text/html": [
       "<div>\n",
       "<style scoped>\n",
       "    .dataframe tbody tr th:only-of-type {\n",
       "        vertical-align: middle;\n",
       "    }\n",
       "\n",
       "    .dataframe tbody tr th {\n",
       "        vertical-align: top;\n",
       "    }\n",
       "\n",
       "    .dataframe thead th {\n",
       "        text-align: right;\n",
       "    }\n",
       "</style>\n",
       "<table border=\"1\" class=\"dataframe\">\n",
       "  <thead>\n",
       "    <tr style=\"text-align: right;\">\n",
       "      <th></th>\n",
       "      <th>Description</th>\n",
       "      <th>Vendor_Name</th>\n",
       "      <th>Created</th>\n",
       "      <th>Invoice_Date</th>\n",
       "      <th>Due_Date</th>\n",
       "      <th>Amount</th>\n",
       "      <th>Settled</th>\n",
       "      <th>Outstanding</th>\n",
       "      <th>Number_of_Days_until_Payment</th>\n",
       "    </tr>\n",
       "  </thead>\n",
       "  <tbody>\n",
       "    <tr>\n",
       "      <th>0</th>\n",
       "      <td>Milk x 7 ltrs</td>\n",
       "      <td>David Taylor</td>\n",
       "      <td>26-04-2011 11:50</td>\n",
       "      <td>26-Apr-11</td>\n",
       "      <td>26-May-11</td>\n",
       "      <td>672.78</td>\n",
       "      <td>672.78</td>\n",
       "      <td>0.0</td>\n",
       "      <td>13</td>\n",
       "    </tr>\n",
       "    <tr>\n",
       "      <th>1</th>\n",
       "      <td>Office Stationery</td>\n",
       "      <td>Stephen Wright MD</td>\n",
       "      <td>24-05-2011 09:40</td>\n",
       "      <td>24-May-11</td>\n",
       "      <td>23-Jun-11</td>\n",
       "      <td>5101.98</td>\n",
       "      <td>5101.98</td>\n",
       "      <td>0.0</td>\n",
       "      <td>38</td>\n",
       "    </tr>\n",
       "    <tr>\n",
       "      <th>2</th>\n",
       "      <td>Milk x 10 ltrs</td>\n",
       "      <td>Mark Cordova</td>\n",
       "      <td>24-05-2011 12:56</td>\n",
       "      <td>24-Mar-11</td>\n",
       "      <td>23-Apr-11</td>\n",
       "      <td>7422.78</td>\n",
       "      <td>7422.78</td>\n",
       "      <td>0.0</td>\n",
       "      <td>61</td>\n",
       "    </tr>\n",
       "    <tr>\n",
       "      <th>3</th>\n",
       "      <td>Annual Fee</td>\n",
       "      <td>Kimberly White</td>\n",
       "      <td>09-07-2011 10:42</td>\n",
       "      <td>10-May-11</td>\n",
       "      <td>24-May-11</td>\n",
       "      <td>11.98</td>\n",
       "      <td>11.98</td>\n",
       "      <td>0.0</td>\n",
       "      <td>62</td>\n",
       "    </tr>\n",
       "    <tr>\n",
       "      <th>4</th>\n",
       "      <td>NaN</td>\n",
       "      <td>Teresa Marshall</td>\n",
       "      <td>05-09-2011 20:55</td>\n",
       "      <td>05-Sep-11</td>\n",
       "      <td>06-Sep-11</td>\n",
       "      <td>5501.98</td>\n",
       "      <td>5501.98</td>\n",
       "      <td>0.0</td>\n",
       "      <td>2</td>\n",
       "    </tr>\n",
       "  </tbody>\n",
       "</table>\n",
       "</div>"
      ],
      "text/plain": [
       "          Description        Vendor_Name           Created Invoice_Date  \\\n",
       "0       Milk x 7 ltrs       David Taylor  26-04-2011 11:50    26-Apr-11   \n",
       "1  Office Stationery   Stephen Wright MD  24-05-2011 09:40    24-May-11   \n",
       "2      Milk x 10 ltrs       Mark Cordova  24-05-2011 12:56    24-Mar-11   \n",
       "3          Annual Fee     Kimberly White  09-07-2011 10:42    10-May-11   \n",
       "4                 NaN    Teresa Marshall  05-09-2011 20:55    05-Sep-11   \n",
       "\n",
       "    Due_Date   Amount  Settled  Outstanding  Number_of_Days_until_Payment  \n",
       "0  26-May-11   672.78   672.78          0.0                            13  \n",
       "1  23-Jun-11  5101.98  5101.98          0.0                            38  \n",
       "2  23-Apr-11  7422.78  7422.78          0.0                            61  \n",
       "3  24-May-11    11.98    11.98          0.0                            62  \n",
       "4  06-Sep-11  5501.98  5501.98          0.0                             2  "
      ]
     },
     "execution_count": 7,
     "metadata": {},
     "output_type": "execute_result"
    }
   ],
   "source": [
    "df_train.head()"
   ]
  },
  {
   "cell_type": "code",
   "execution_count": 8,
   "id": "9367e043",
   "metadata": {},
   "outputs": [
    {
     "data": {
      "text/plain": [
       "(8753, 9)"
      ]
     },
     "execution_count": 8,
     "metadata": {},
     "output_type": "execute_result"
    }
   ],
   "source": [
    "df_train.shape"
   ]
  },
  {
   "cell_type": "code",
   "execution_count": 9,
   "id": "4207a4d4",
   "metadata": {},
   "outputs": [
    {
     "data": {
      "text/plain": [
       "<AxesSubplot:xlabel='Amount', ylabel='Density'>"
      ]
     },
     "execution_count": 9,
     "metadata": {},
     "output_type": "execute_result"
    },
    {
     "data": {
      "image/png": "[encoded data removed]",
      "text/plain": [
       "<Figure size 432x288 with 1 Axes>"
      ]
     },
     "metadata": {
      "needs_background": "light"
     },
     "output_type": "display_data"
    }
   ],
   "source": [
    "sns.kdeplot(df_train['Amount'])"
   ]
  },
  {
   "cell_type": "code",
   "execution_count": 10,
   "id": "fd84bb87",
   "metadata": {},
   "outputs": [
    {
     "data": {
      "text/html": [
       "<div>\n",
       "<style scoped>\n",
       "    .dataframe tbody tr th:only-of-type {\n",
       "        vertical-align: middle;\n",
       "    }\n",
       "\n",
       "    .dataframe tbody tr th {\n",
       "        vertical-align: top;\n",
       "    }\n",
       "\n",
       "    .dataframe thead th {\n",
       "        text-align: right;\n",
       "    }\n",
       "</style>\n",
       "<table border=\"1\" class=\"dataframe\">\n",
       "  <thead>\n",
       "    <tr style=\"text-align: right;\">\n",
       "      <th></th>\n",
       "      <th>Amount</th>\n",
       "      <th>Settled</th>\n",
       "      <th>Outstanding</th>\n",
       "      <th>Number_of_Days_until_Payment</th>\n",
       "    </tr>\n",
       "    <tr>\n",
       "      <th>Vendor_Name</th>\n",
       "      <th></th>\n",
       "      <th></th>\n",
       "      <th></th>\n",
       "      <th></th>\n",
       "    </tr>\n",
       "  </thead>\n",
       "  <tbody>\n",
       "    <tr>\n",
       "      <th>Aaron Frazier</th>\n",
       "      <td>2221.980000</td>\n",
       "      <td>2201.980000</td>\n",
       "      <td>20.00</td>\n",
       "      <td>4.000000</td>\n",
       "    </tr>\n",
       "    <tr>\n",
       "      <th>Aaron Garcia</th>\n",
       "      <td>383.900000</td>\n",
       "      <td>383.900000</td>\n",
       "      <td>0.00</td>\n",
       "      <td>63.000000</td>\n",
       "    </tr>\n",
       "    <tr>\n",
       "      <th>Aaron Hoffman</th>\n",
       "      <td>25.730000</td>\n",
       "      <td>25.730000</td>\n",
       "      <td>0.00</td>\n",
       "      <td>25.250000</td>\n",
       "    </tr>\n",
       "    <tr>\n",
       "      <th>Aaron Howard</th>\n",
       "      <td>93.330000</td>\n",
       "      <td>93.330000</td>\n",
       "      <td>0.00</td>\n",
       "      <td>6.000000</td>\n",
       "    </tr>\n",
       "    <tr>\n",
       "      <th>Aaron Joyce</th>\n",
       "      <td>69.180000</td>\n",
       "      <td>69.180000</td>\n",
       "      <td>0.00</td>\n",
       "      <td>100.000000</td>\n",
       "    </tr>\n",
       "    <tr>\n",
       "      <th>...</th>\n",
       "      <td>...</td>\n",
       "      <td>...</td>\n",
       "      <td>...</td>\n",
       "      <td>...</td>\n",
       "    </tr>\n",
       "    <tr>\n",
       "      <th>Zachary Johnson</th>\n",
       "      <td>2831.970000</td>\n",
       "      <td>885.310000</td>\n",
       "      <td>1946.66</td>\n",
       "      <td>68.000000</td>\n",
       "    </tr>\n",
       "    <tr>\n",
       "      <th>Zachary Simmons</th>\n",
       "      <td>678.780000</td>\n",
       "      <td>58.380000</td>\n",
       "      <td>620.40</td>\n",
       "      <td>38.000000</td>\n",
       "    </tr>\n",
       "    <tr>\n",
       "      <th>Zachary Thompson</th>\n",
       "      <td>14001.980000</td>\n",
       "      <td>14001.980000</td>\n",
       "      <td>0.00</td>\n",
       "      <td>64.000000</td>\n",
       "    </tr>\n",
       "    <tr>\n",
       "      <th>Zachary Warren</th>\n",
       "      <td>1840.380000</td>\n",
       "      <td>2.280000</td>\n",
       "      <td>1838.10</td>\n",
       "      <td>105.000000</td>\n",
       "    </tr>\n",
       "    <tr>\n",
       "      <th>Zachary Williams</th>\n",
       "      <td>66.273333</td>\n",
       "      <td>66.273333</td>\n",
       "      <td>0.00</td>\n",
       "      <td>22.333333</td>\n",
       "    </tr>\n",
       "  </tbody>\n",
       "</table>\n",
       "<p>3276 rows × 4 columns</p>\n",
       "</div>"
      ],
      "text/plain": [
       "                        Amount       Settled  Outstanding  \\\n",
       "Vendor_Name                                                 \n",
       "Aaron Frazier      2221.980000   2201.980000        20.00   \n",
       "Aaron Garcia        383.900000    383.900000         0.00   \n",
       "Aaron Hoffman        25.730000     25.730000         0.00   \n",
       "Aaron Howard         93.330000     93.330000         0.00   \n",
       "Aaron Joyce          69.180000     69.180000         0.00   \n",
       "...                        ...           ...          ...   \n",
       "Zachary Johnson    2831.970000    885.310000      1946.66   \n",
       "Zachary Simmons     678.780000     58.380000       620.40   \n",
       "Zachary Thompson  14001.980000  14001.980000         0.00   \n",
       "Zachary Warren     1840.380000      2.280000      1838.10   \n",
       "Zachary Williams     66.273333     66.273333         0.00   \n",
       "\n",
       "                  Number_of_Days_until_Payment  \n",
       "Vendor_Name                                     \n",
       "Aaron Frazier                         4.000000  \n",
       "Aaron Garcia                         63.000000  \n",
       "Aaron Hoffman                        25.250000  \n",
       "Aaron Howard                          6.000000  \n",
       "Aaron Joyce                         100.000000  \n",
       "...                                        ...  \n",
       "Zachary Johnson                      68.000000  \n",
       "Zachary Simmons                      38.000000  \n",
       "Zachary Thompson                     64.000000  \n",
       "Zachary Warren                      105.000000  \n",
       "Zachary Williams                     22.333333  \n",
       "\n",
       "[3276 rows x 4 columns]"
      ]
     },
     "execution_count": 10,
     "metadata": {},
     "output_type": "execute_result"
    }
   ],
   "source": [
    "df_train.groupby(['Vendor_Name']).mean()"
   ]
  },
  {
   "cell_type": "markdown",
   "id": "0b82dbcc",
   "metadata": {},
   "source": [
    "## dropping description as test data has many categories , which are absent in train data \n"
   ]
  },
  {
   "cell_type": "code",
   "execution_count": 12,
   "id": "50c8a49f",
   "metadata": {},
   "outputs": [
    {
     "data": {
      "text/html": [
       "<div>\n",
       "<style scoped>\n",
       "    .dataframe tbody tr th:only-of-type {\n",
       "        vertical-align: middle;\n",
       "    }\n",
       "\n",
       "    .dataframe tbody tr th {\n",
       "        vertical-align: top;\n",
       "    }\n",
       "\n",
       "    .dataframe thead th {\n",
       "        text-align: right;\n",
       "    }\n",
       "</style>\n",
       "<table border=\"1\" class=\"dataframe\">\n",
       "  <thead>\n",
       "    <tr style=\"text-align: right;\">\n",
       "      <th></th>\n",
       "      <th>Vendor_Name</th>\n",
       "      <th>Created</th>\n",
       "      <th>Invoice_Date</th>\n",
       "      <th>Due_Date</th>\n",
       "      <th>Amount</th>\n",
       "      <th>Settled</th>\n",
       "      <th>Outstanding</th>\n",
       "    </tr>\n",
       "  </thead>\n",
       "  <tbody>\n",
       "    <tr>\n",
       "      <th>0</th>\n",
       "      <td>Aaron Hoffman</td>\n",
       "      <td>26-11-2015 12:38</td>\n",
       "      <td>30-Nov-15</td>\n",
       "      <td>30-Dec-15</td>\n",
       "      <td>11.98</td>\n",
       "      <td>11.98</td>\n",
       "      <td>0.0</td>\n",
       "    </tr>\n",
       "    <tr>\n",
       "      <th>1</th>\n",
       "      <td>Aaron Murphy</td>\n",
       "      <td>27-10-2016 10:35</td>\n",
       "      <td>06-Sep-16</td>\n",
       "      <td>06-Oct-16</td>\n",
       "      <td>56.98</td>\n",
       "      <td>56.98</td>\n",
       "      <td>0.0</td>\n",
       "    </tr>\n",
       "    <tr>\n",
       "      <th>2</th>\n",
       "      <td>Aaron Parks</td>\n",
       "      <td>29-02-2016 00:53</td>\n",
       "      <td>29-Feb-16</td>\n",
       "      <td>14-Mar-16</td>\n",
       "      <td>61.98</td>\n",
       "      <td>61.98</td>\n",
       "      <td>0.0</td>\n",
       "    </tr>\n",
       "    <tr>\n",
       "      <th>3</th>\n",
       "      <td>Aaron Thomas</td>\n",
       "      <td>27-08-2013 18:46</td>\n",
       "      <td>23-Aug-13</td>\n",
       "      <td>06-Sep-13</td>\n",
       "      <td>674.30</td>\n",
       "      <td>674.30</td>\n",
       "      <td>0.0</td>\n",
       "    </tr>\n",
       "    <tr>\n",
       "      <th>4</th>\n",
       "      <td>Abigail Hernandez</td>\n",
       "      <td>16-05-2017 16:48</td>\n",
       "      <td>10-May-17</td>\n",
       "      <td>09-Jun-17</td>\n",
       "      <td>302.94</td>\n",
       "      <td>302.94</td>\n",
       "      <td>0.0</td>\n",
       "    </tr>\n",
       "  </tbody>\n",
       "</table>\n",
       "</div>"
      ],
      "text/plain": [
       "         Vendor_Name           Created Invoice_Date   Due_Date  Amount  \\\n",
       "0      Aaron Hoffman  26-11-2015 12:38    30-Nov-15  30-Dec-15   11.98   \n",
       "1       Aaron Murphy  27-10-2016 10:35    06-Sep-16  06-Oct-16   56.98   \n",
       "2        Aaron Parks  29-02-2016 00:53    29-Feb-16  14-Mar-16   61.98   \n",
       "3       Aaron Thomas  27-08-2013 18:46    23-Aug-13  06-Sep-13  674.30   \n",
       "4  Abigail Hernandez  16-05-2017 16:48    10-May-17  09-Jun-17  302.94   \n",
       "\n",
       "   Settled  Outstanding  \n",
       "0    11.98          0.0  \n",
       "1    56.98          0.0  \n",
       "2    61.98          0.0  \n",
       "3   674.30          0.0  \n",
       "4   302.94          0.0  "
      ]
     },
     "execution_count": 12,
     "metadata": {},
     "output_type": "execute_result"
    }
   ],
   "source": [
    "\n",
    "df_train.drop('Description', axis=1, inplace=True)\n",
    "df_test.drop('Description', axis=1, inplace=True)\n",
    "df_test.head()"
   ]
  },
  {
   "cell_type": "markdown",
   "id": "b58ae3b0",
   "metadata": {},
   "source": [
    "## approach 1 - one hot encoding of 10 most frequent vendors"
   ]
  },
  {
   "cell_type": "code",
   "execution_count": 13,
   "id": "9b0beff5",
   "metadata": {},
   "outputs": [],
   "source": [
    "# lst_10=[x for x in df_train.Vendor_Name.value_counts().sort_values(ascending=False).head(10).index]\n",
    "# for categories in lst_10:\n",
    "#     df_train[categories]=np.where(df_train['Vendor_Name']==categories,1,0)\n",
    "#     df_test[categories]=np.where(df_test['Vendor_Name']==categories,1,0)"
   ]
  },
  {
   "cell_type": "code",
   "execution_count": 14,
   "id": "154207b2",
   "metadata": {},
   "outputs": [],
   "source": [
    "# df_train.drop('Vendor_Name', axis=1, inplace=True)\n",
    "# df_test.drop('Vendor_Name', axis=1, inplace=True)\n",
    "# df_test.head()"
   ]
  },
  {
   "cell_type": "markdown",
   "id": "942e3354",
   "metadata": {},
   "source": [
    "## approach 2 - frequency encoding for vendor names"
   ]
  },
  {
   "cell_type": "code",
   "execution_count": 15,
   "id": "296fc84a",
   "metadata": {},
   "outputs": [],
   "source": [
    "# Vendor_Name_map=df_train['Vendor_Name'].value_counts().to_dict()\n",
    "# df_train['Vendor_Name']=df_train['Vendor_Name'].map(Vendor_Name_map)\n",
    "# df_train.head()"
   ]
  },
  {
   "cell_type": "code",
   "execution_count": 16,
   "id": "de8b3359",
   "metadata": {},
   "outputs": [],
   "source": [
    "# df_test['Vendor_Name']=df_test['Vendor_Name'].map(Vendor_Name_map)\n",
    "# df_test.head()"
   ]
  },
  {
   "cell_type": "markdown",
   "id": "da0648b4",
   "metadata": {},
   "source": [
    "## dropping created"
   ]
  },
  {
   "cell_type": "code",
   "execution_count": 17,
   "id": "18711b05",
   "metadata": {},
   "outputs": [
    {
     "data": {
      "text/html": [
       "<div>\n",
       "<style scoped>\n",
       "    .dataframe tbody tr th:only-of-type {\n",
       "        vertical-align: middle;\n",
       "    }\n",
       "\n",
       "    .dataframe tbody tr th {\n",
       "        vertical-align: top;\n",
       "    }\n",
       "\n",
       "    .dataframe thead th {\n",
       "        text-align: right;\n",
       "    }\n",
       "</style>\n",
       "<table border=\"1\" class=\"dataframe\">\n",
       "  <thead>\n",
       "    <tr style=\"text-align: right;\">\n",
       "      <th></th>\n",
       "      <th>Vendor_Name</th>\n",
       "      <th>Invoice_Date</th>\n",
       "      <th>Due_Date</th>\n",
       "      <th>Amount</th>\n",
       "      <th>Settled</th>\n",
       "      <th>Outstanding</th>\n",
       "    </tr>\n",
       "  </thead>\n",
       "  <tbody>\n",
       "    <tr>\n",
       "      <th>0</th>\n",
       "      <td>Aaron Hoffman</td>\n",
       "      <td>30-Nov-15</td>\n",
       "      <td>30-Dec-15</td>\n",
       "      <td>11.98</td>\n",
       "      <td>11.98</td>\n",
       "      <td>0.0</td>\n",
       "    </tr>\n",
       "    <tr>\n",
       "      <th>1</th>\n",
       "      <td>Aaron Murphy</td>\n",
       "      <td>06-Sep-16</td>\n",
       "      <td>06-Oct-16</td>\n",
       "      <td>56.98</td>\n",
       "      <td>56.98</td>\n",
       "      <td>0.0</td>\n",
       "    </tr>\n",
       "    <tr>\n",
       "      <th>2</th>\n",
       "      <td>Aaron Parks</td>\n",
       "      <td>29-Feb-16</td>\n",
       "      <td>14-Mar-16</td>\n",
       "      <td>61.98</td>\n",
       "      <td>61.98</td>\n",
       "      <td>0.0</td>\n",
       "    </tr>\n",
       "    <tr>\n",
       "      <th>3</th>\n",
       "      <td>Aaron Thomas</td>\n",
       "      <td>23-Aug-13</td>\n",
       "      <td>06-Sep-13</td>\n",
       "      <td>674.30</td>\n",
       "      <td>674.30</td>\n",
       "      <td>0.0</td>\n",
       "    </tr>\n",
       "    <tr>\n",
       "      <th>4</th>\n",
       "      <td>Abigail Hernandez</td>\n",
       "      <td>10-May-17</td>\n",
       "      <td>09-Jun-17</td>\n",
       "      <td>302.94</td>\n",
       "      <td>302.94</td>\n",
       "      <td>0.0</td>\n",
       "    </tr>\n",
       "  </tbody>\n",
       "</table>\n",
       "</div>"
      ],
      "text/plain": [
       "         Vendor_Name Invoice_Date   Due_Date  Amount  Settled  Outstanding\n",
       "0      Aaron Hoffman    30-Nov-15  30-Dec-15   11.98    11.98          0.0\n",
       "1       Aaron Murphy    06-Sep-16  06-Oct-16   56.98    56.98          0.0\n",
       "2        Aaron Parks    29-Feb-16  14-Mar-16   61.98    61.98          0.0\n",
       "3       Aaron Thomas    23-Aug-13  06-Sep-13  674.30   674.30          0.0\n",
       "4  Abigail Hernandez    10-May-17  09-Jun-17  302.94   302.94          0.0"
      ]
     },
     "execution_count": 17,
     "metadata": {},
     "output_type": "execute_result"
    }
   ],
   "source": [
    "df_train.drop('Created', axis=1, inplace=True)\n",
    "df_test.drop('Created', axis=1, inplace=True)\n",
    "df_test.head()"
   ]
  },
  {
   "cell_type": "markdown",
   "id": "c555172a",
   "metadata": {},
   "source": [
    "## calculating number of days between invoice date and due date"
   ]
  },
  {
   "cell_type": "code",
   "execution_count": 18,
   "id": "c22591b6",
   "metadata": {},
   "outputs": [],
   "source": [
    "dic={'Apr':4, 'May':5, 'Mar':3, 'Sep':9, 'Oct':10, 'Nov':11, 'Jan':1, 'Feb':2, 'Jun':6,\n",
    "       'Jul':7, 'Aug':8, 'Dec':12}\n",
    "def date_diff(df,variable):\n",
    "        df[variable+'date']=(df[variable].astype(str).str[0:2]).astype(int)\n",
    "        df[variable+'mon']=(df[variable].astype(str).str[3:6]).map(dic)\n",
    "        df[variable+'year']=2000+(df[variable].astype(str).str[7:9]).astype(int)"
   ]
  },
  {
   "cell_type": "code",
   "execution_count": 19,
   "id": "ee3e879a",
   "metadata": {},
   "outputs": [],
   "source": [
    "def delta(df):\n",
    "    list=[]\n",
    "    for i in range(0,len(df)):\n",
    "        y=df['Invoice_Dateyear'][i]\n",
    "        m=df['Invoice_Datemon'][i]\n",
    "        d=df['Invoice_Datedate'][i]\n",
    "        y1=df['Due_Dateyear'][i]\n",
    "        m1=df['Due_Datemon'][i]\n",
    "        d1=df['Due_Datedate'][i]\n",
    "\n",
    "        f_date = date(y,m,d)\n",
    "        l_date = date(y1, m1, d1)\n",
    "        delta = l_date - f_date\n",
    "        list.append(delta.days)\n",
    "    df['day_diff']=np.array(list)\n",
    "    df.drop(['Invoice_Date','Due_Date','Invoice_Dateyear','Invoice_Datemon','Invoice_Datedate','Due_Dateyear','Due_Datemon','Due_Datedate'], axis=1, inplace=True)\n",
    "\n",
    "   "
   ]
  },
  {
   "cell_type": "code",
   "execution_count": 20,
   "id": "1e84c674",
   "metadata": {},
   "outputs": [],
   "source": [
    "date_diff(df_train,'Invoice_Date')\n",
    "date_diff(df_train,'Due_Date')\n",
    "delta(df_train)\n",
    "date_diff(df_test,'Invoice_Date')\n",
    "date_diff(df_test,'Due_Date')\n",
    "delta(df_test)"
   ]
  },
  {
   "cell_type": "code",
   "execution_count": 21,
   "id": "25336c56",
   "metadata": {},
   "outputs": [
    {
     "data": {
      "text/html": [
       "<div>\n",
       "<style scoped>\n",
       "    .dataframe tbody tr th:only-of-type {\n",
       "        vertical-align: middle;\n",
       "    }\n",
       "\n",
       "    .dataframe tbody tr th {\n",
       "        vertical-align: top;\n",
       "    }\n",
       "\n",
       "    .dataframe thead th {\n",
       "        text-align: right;\n",
       "    }\n",
       "</style>\n",
       "<table border=\"1\" class=\"dataframe\">\n",
       "  <thead>\n",
       "    <tr style=\"text-align: right;\">\n",
       "      <th></th>\n",
       "      <th>Vendor_Name</th>\n",
       "      <th>Amount</th>\n",
       "      <th>Settled</th>\n",
       "      <th>Outstanding</th>\n",
       "      <th>day_diff</th>\n",
       "    </tr>\n",
       "  </thead>\n",
       "  <tbody>\n",
       "    <tr>\n",
       "      <th>0</th>\n",
       "      <td>Aaron Hoffman</td>\n",
       "      <td>11.98</td>\n",
       "      <td>11.98</td>\n",
       "      <td>0.0</td>\n",
       "      <td>30</td>\n",
       "    </tr>\n",
       "    <tr>\n",
       "      <th>1</th>\n",
       "      <td>Aaron Murphy</td>\n",
       "      <td>56.98</td>\n",
       "      <td>56.98</td>\n",
       "      <td>0.0</td>\n",
       "      <td>30</td>\n",
       "    </tr>\n",
       "    <tr>\n",
       "      <th>2</th>\n",
       "      <td>Aaron Parks</td>\n",
       "      <td>61.98</td>\n",
       "      <td>61.98</td>\n",
       "      <td>0.0</td>\n",
       "      <td>14</td>\n",
       "    </tr>\n",
       "    <tr>\n",
       "      <th>3</th>\n",
       "      <td>Aaron Thomas</td>\n",
       "      <td>674.30</td>\n",
       "      <td>674.30</td>\n",
       "      <td>0.0</td>\n",
       "      <td>14</td>\n",
       "    </tr>\n",
       "    <tr>\n",
       "      <th>4</th>\n",
       "      <td>Abigail Hernandez</td>\n",
       "      <td>302.94</td>\n",
       "      <td>302.94</td>\n",
       "      <td>0.0</td>\n",
       "      <td>30</td>\n",
       "    </tr>\n",
       "  </tbody>\n",
       "</table>\n",
       "</div>"
      ],
      "text/plain": [
       "         Vendor_Name  Amount  Settled  Outstanding  day_diff\n",
       "0      Aaron Hoffman   11.98    11.98          0.0        30\n",
       "1       Aaron Murphy   56.98    56.98          0.0        30\n",
       "2        Aaron Parks   61.98    61.98          0.0        14\n",
       "3       Aaron Thomas  674.30   674.30          0.0        14\n",
       "4  Abigail Hernandez  302.94   302.94          0.0        30"
      ]
     },
     "execution_count": 21,
     "metadata": {},
     "output_type": "execute_result"
    }
   ],
   "source": [
    "df_test.head()"
   ]
  },
  {
   "cell_type": "code",
   "execution_count": 22,
   "id": "99b7da1c",
   "metadata": {},
   "outputs": [
    {
     "data": {
      "text/html": [
       "<div>\n",
       "<style scoped>\n",
       "    .dataframe tbody tr th:only-of-type {\n",
       "        vertical-align: middle;\n",
       "    }\n",
       "\n",
       "    .dataframe tbody tr th {\n",
       "        vertical-align: top;\n",
       "    }\n",
       "\n",
       "    .dataframe thead th {\n",
       "        text-align: right;\n",
       "    }\n",
       "</style>\n",
       "<table border=\"1\" class=\"dataframe\">\n",
       "  <thead>\n",
       "    <tr style=\"text-align: right;\">\n",
       "      <th></th>\n",
       "      <th>Vendor_Name</th>\n",
       "      <th>Amount</th>\n",
       "      <th>Settled</th>\n",
       "      <th>Outstanding</th>\n",
       "      <th>Number_of_Days_until_Payment</th>\n",
       "      <th>day_diff</th>\n",
       "    </tr>\n",
       "  </thead>\n",
       "  <tbody>\n",
       "    <tr>\n",
       "      <th>0</th>\n",
       "      <td>David Taylor</td>\n",
       "      <td>672.78</td>\n",
       "      <td>672.78</td>\n",
       "      <td>0.0</td>\n",
       "      <td>13</td>\n",
       "      <td>30</td>\n",
       "    </tr>\n",
       "    <tr>\n",
       "      <th>1</th>\n",
       "      <td>Stephen Wright MD</td>\n",
       "      <td>5101.98</td>\n",
       "      <td>5101.98</td>\n",
       "      <td>0.0</td>\n",
       "      <td>38</td>\n",
       "      <td>30</td>\n",
       "    </tr>\n",
       "    <tr>\n",
       "      <th>2</th>\n",
       "      <td>Mark Cordova</td>\n",
       "      <td>7422.78</td>\n",
       "      <td>7422.78</td>\n",
       "      <td>0.0</td>\n",
       "      <td>61</td>\n",
       "      <td>30</td>\n",
       "    </tr>\n",
       "    <tr>\n",
       "      <th>3</th>\n",
       "      <td>Kimberly White</td>\n",
       "      <td>11.98</td>\n",
       "      <td>11.98</td>\n",
       "      <td>0.0</td>\n",
       "      <td>62</td>\n",
       "      <td>14</td>\n",
       "    </tr>\n",
       "    <tr>\n",
       "      <th>4</th>\n",
       "      <td>Teresa Marshall</td>\n",
       "      <td>5501.98</td>\n",
       "      <td>5501.98</td>\n",
       "      <td>0.0</td>\n",
       "      <td>2</td>\n",
       "      <td>1</td>\n",
       "    </tr>\n",
       "  </tbody>\n",
       "</table>\n",
       "</div>"
      ],
      "text/plain": [
       "         Vendor_Name   Amount  Settled  Outstanding  \\\n",
       "0       David Taylor   672.78   672.78          0.0   \n",
       "1  Stephen Wright MD  5101.98  5101.98          0.0   \n",
       "2       Mark Cordova  7422.78  7422.78          0.0   \n",
       "3     Kimberly White    11.98    11.98          0.0   \n",
       "4    Teresa Marshall  5501.98  5501.98          0.0   \n",
       "\n",
       "   Number_of_Days_until_Payment  day_diff  \n",
       "0                            13        30  \n",
       "1                            38        30  \n",
       "2                            61        30  \n",
       "3                            62        14  \n",
       "4                             2         1  "
      ]
     },
     "execution_count": 22,
     "metadata": {},
     "output_type": "execute_result"
    }
   ],
   "source": [
    "df_train.head()"
   ]
  },
  {
   "cell_type": "markdown",
   "id": "7476bdfa",
   "metadata": {},
   "source": [
    "## Scaling"
   ]
  },
  {
   "cell_type": "code",
   "execution_count": 23,
   "id": "758c8f74",
   "metadata": {},
   "outputs": [],
   "source": [
    "# from sklearn.preprocessing import StandardScaler\n",
    "# result=pd.concat([df_train,df_test])\n",
    "# scaler=StandardScaler()\n",
    "# df_scaler=pd.DataFrame(scaler.fit_transform(result),columns=result.columns)\n",
    "\n",
    "\n",
    "# df_scaler_test=pd.DataFrame(scaler.fit_transform(x_test),columns=x_test.columns)\n",
    "# df_scaler_train=pd.DataFrame(scaler.fit_transform(x_train),columns=x_train.columns)\n"
   ]
  },
  {
   "cell_type": "code",
   "execution_count": 24,
   "id": "dc415942",
   "metadata": {},
   "outputs": [],
   "source": [
    "# df_scaler.tail(10)"
   ]
  },
  {
   "cell_type": "code",
   "execution_count": 25,
   "id": "87f8aa6b",
   "metadata": {},
   "outputs": [],
   "source": [
    "# df_scaler_train=df_scaler.iloc[0:len(df_train)]\n",
    "# df_scaler_train.head()"
   ]
  },
  {
   "cell_type": "code",
   "execution_count": 26,
   "id": "328481ff",
   "metadata": {},
   "outputs": [],
   "source": [
    "# df_scaler_test=df_scaler.iloc[len(df_train):]\n",
    "# df_scaler_test.head()"
   ]
  },
  {
   "cell_type": "code",
   "execution_count": 27,
   "id": "60c3eec5",
   "metadata": {},
   "outputs": [],
   "source": [
    "# x_test=df_scaler_test\n",
    "# x_train=df_scaler_train"
   ]
  },
  {
   "cell_type": "markdown",
   "id": "551ad87f",
   "metadata": {},
   "source": [
    "## approach 3 - dropping day_diff"
   ]
  },
  {
   "cell_type": "code",
   "execution_count": 28,
   "id": "cd858ffd",
   "metadata": {},
   "outputs": [],
   "source": [
    "## drop day_diff    -- bad performance(score)"
   ]
  },
  {
   "cell_type": "code",
   "execution_count": 29,
   "id": "3692cd00",
   "metadata": {},
   "outputs": [],
   "source": [
    "# df_train.drop('day_diff', axis=1, inplace=True)\n",
    "# df_test.drop('day_diff', axis=1, inplace=True)\n",
    "# df_test.head()"
   ]
  },
  {
   "cell_type": "markdown",
   "id": "c966d044",
   "metadata": {},
   "source": [
    "## approach 4- making new feature by mean target encoding of number of days for all vendors"
   ]
  },
  {
   "cell_type": "code",
   "execution_count": 30,
   "id": "f8ae9fc7",
   "metadata": {},
   "outputs": [],
   "source": [
    "## new feature - mean  --- overfitting -- 10.583 (0.446) but score on leaderboard is 27\n",
    "# df_train2=pd.read_csv('trainData.csv', usecols=['Vendor_Name','Number_of_Days_until_Payment'])\n",
    "# a=df_train2.groupby('Vendor_Name').mean()\n",
    "# d_mean=dict(zip(a.index, a.Number_of_Days_until_Payment))"
   ]
  },
  {
   "cell_type": "code",
   "execution_count": 31,
   "id": "5eb8c374",
   "metadata": {},
   "outputs": [],
   "source": [
    "# df_test['new']=df_test['Vendor_Name'].map(d_mean)\n",
    "# df_train['new']=df_train['Vendor_Name'].map(d_mean)  \n",
    "\n"
   ]
  },
  {
   "cell_type": "markdown",
   "id": "0284e28d",
   "metadata": {},
   "source": [
    "## approach 5 - making new feature by median target encoding of number of days for all vendors"
   ]
  },
  {
   "cell_type": "code",
   "execution_count": 32,
   "id": "0f35dee4",
   "metadata": {},
   "outputs": [],
   "source": [
    "# ## new feature - median -- 10.555 (0.413)-----26.94769---overfitting\n",
    "# df_train2=pd.read_csv('trainData.csv', usecols=['Vendor_Name','Number_of_Days_until_Payment'])\n",
    "# a=df_train2.groupby('Vendor_Name').median()\n",
    "# d_median=dict(zip(a.index, a.Number_of_Days_until_Payment))"
   ]
  },
  {
   "cell_type": "code",
   "execution_count": 33,
   "id": "8308aa67",
   "metadata": {},
   "outputs": [],
   "source": [
    "# df_test['new']=df_test['Vendor_Name'].map(d_median)\n",
    "# df_train['new']=df_train['Vendor_Name'].map(d_median)  \n"
   ]
  },
  {
   "cell_type": "markdown",
   "id": "572e17f8",
   "metadata": {},
   "source": [
    "## approach 6- adding a new feature and dropping outstanding"
   ]
  },
  {
   "cell_type": "code",
   "execution_count": 34,
   "id": "72d56053",
   "metadata": {},
   "outputs": [],
   "source": [
    "##   Mean MAE: 18.634  "
   ]
  },
  {
   "cell_type": "code",
   "execution_count": 35,
   "id": "1bef4613",
   "metadata": {},
   "outputs": [],
   "source": [
    "# df_train['new']=df_train['Settled']/df_train['Amount']\n",
    "# df_test['new']=df_test['Settled']/df_test['Amount']\n",
    "# df_test.drop('Outstanding', axis=1, inplace=True)\n",
    "# df_train.drop('Outstanding', axis=1, inplace=True)"
   ]
  },
  {
   "cell_type": "markdown",
   "id": "fb7f6e7b",
   "metadata": {},
   "source": [
    "## approach 7 - encoding vendor name "
   ]
  },
  {
   "cell_type": "code",
   "execution_count": 36,
   "id": "74c54655",
   "metadata": {},
   "outputs": [],
   "source": [
    "## encoding vendor name----- best---18.638 (0.448)"
   ]
  },
  {
   "cell_type": "code",
   "execution_count": 37,
   "id": "e2ff1202",
   "metadata": {},
   "outputs": [],
   "source": [
    "d=df_train.Vendor_Name.value_counts().sort_values(ascending=False).to_dict()\n",
    "li= d.keys()\n",
    "c=3276\n",
    "di={}\n",
    "for i in  li:\n",
    "    di[i]=c*d[i]\n",
    "    c=c-1\n",
    "df_test['Vendor_Name']=df_test['Vendor_Name'].map(di)\n",
    "df_train['Vendor_Name']=df_train['Vendor_Name'].map(di)  \n"
   ]
  },
  {
   "cell_type": "code",
   "execution_count": 38,
   "id": "64bf745e",
   "metadata": {},
   "outputs": [],
   "source": [
    "df_train= df_train.loc[df_train['Number_of_Days_until_Payment']>0]\n",
    "y_train=df_train[['Number_of_Days_until_Payment']]\n",
    "df_train.drop(['Number_of_Days_until_Payment','Settled'], axis=1, inplace=True)\n",
    "df_test.drop('Settled', axis=1, inplace=True)\n"
   ]
  },
  {
   "cell_type": "markdown",
   "id": "7efbf48d",
   "metadata": {},
   "source": [
    "## Model"
   ]
  },
  {
   "cell_type": "markdown",
   "id": "28a11009",
   "metadata": {},
   "source": [
    "       MODEL                  Score\n",
    "1. linear regression         27.16954\n",
    "2. svm                       27.27141 \n",
    "3. knn                       28.69687\n",
    "4. decision tree             30.93556\n",
    "5. xgboost                   26.59666"
   ]
  },
  {
   "cell_type": "code",
   "execution_count": 40,
   "id": "f9718818",
   "metadata": {},
   "outputs": [],
   "source": [
    "## without scaling \n",
    "x_test=df_test\n",
    "x_train=df_train"
   ]
  },
  {
   "cell_type": "code",
   "execution_count": 41,
   "id": "eacfc8d5",
   "metadata": {},
   "outputs": [
    {
     "data": {
      "text/plain": [
       "pandas.core.frame.DataFrame"
      ]
     },
     "execution_count": 41,
     "metadata": {},
     "output_type": "execute_result"
    }
   ],
   "source": [
    "type(y_train)"
   ]
  },
  {
   "cell_type": "code",
   "execution_count": 42,
   "id": "27889589",
   "metadata": {},
   "outputs": [],
   "source": [
    "x=np.array(x_train)\n",
    "y=np.array(y_train['Number_of_Days_until_Payment'])\n"
   ]
  },
  {
   "cell_type": "code",
   "execution_count": 43,
   "id": "0437851b",
   "metadata": {},
   "outputs": [
    {
     "name": "stdout",
     "output_type": "stream",
     "text": [
      "Mean MAE: 18.638 (0.448)\n"
     ]
    }
   ],
   "source": [
    "import xgboost\n",
    "from numpy import absolute\n",
    "from sklearn.model_selection import cross_val_score\n",
    "from sklearn.model_selection import RepeatedKFold\n",
    "from xgboost import XGBRegressor\n",
    "model = XGBRegressor()\n",
    "cv = RepeatedKFold(n_splits=10, n_repeats=3, random_state=1)\n",
    "scores = cross_val_score(model, x, y, scoring='neg_mean_absolute_error', cv=cv, n_jobs=-1)\n",
    "scores = absolute(scores)\n",
    "print('Mean MAE: %.3f (%.3f)' % (scores.mean(), scores.std()) )"
   ]
  },
  {
   "cell_type": "code",
   "execution_count": 44,
   "id": "e2037813",
   "metadata": {},
   "outputs": [
    {
     "data": {
      "text/plain": [
       "XGBRegressor(base_score=0.5, booster='gbtree', colsample_bylevel=1,\n",
       "             colsample_bynode=1, colsample_bytree=1, enable_categorical=False,\n",
       "             gamma=0, gpu_id=-1, importance_type=None,\n",
       "             interaction_constraints='', learning_rate=0.300000012,\n",
       "             max_delta_step=0, max_depth=6, min_child_weight=1, missing=nan,\n",
       "             monotone_constraints='()', n_estimators=100, n_jobs=16,\n",
       "             num_parallel_tree=1, predictor='auto', random_state=0, reg_alpha=0,\n",
       "             reg_lambda=1, scale_pos_weight=1, subsample=1, tree_method='exact',\n",
       "             validate_parameters=1, verbosity=None)"
      ]
     },
     "execution_count": 44,
     "metadata": {},
     "output_type": "execute_result"
    }
   ],
   "source": [
    "model.fit(x,y)"
   ]
  },
  {
   "cell_type": "code",
   "execution_count": 45,
   "id": "d9a636fc",
   "metadata": {},
   "outputs": [],
   "source": [
    "y_test=model.predict(np.array(x_test))"
   ]
  },
  {
   "cell_type": "code",
   "execution_count": 46,
   "id": "0c603703",
   "metadata": {},
   "outputs": [],
   "source": [
    "test=pd.read_csv('testData.csv')\n",
    "pred=test[['Vendor_Name']]\n",
    "pred['Number_of_Days_until_Payment']=y_test\n",
    "pred=pred.set_index('Vendor_Name')\n",
    "for i,k in enumerate(pred['Number_of_Days_until_Payment'],0):\n",
    "    pred.iloc[i,0] = round(k)\n",
    " "
   ]
  },
  {
   "cell_type": "code",
   "execution_count": 47,
   "id": "cab71358",
   "metadata": {},
   "outputs": [
    {
     "data": {
      "text/html": [
       "<div>\n",
       "<style scoped>\n",
       "    .dataframe tbody tr th:only-of-type {\n",
       "        vertical-align: middle;\n",
       "    }\n",
       "\n",
       "    .dataframe tbody tr th {\n",
       "        vertical-align: top;\n",
       "    }\n",
       "\n",
       "    .dataframe thead th {\n",
       "        text-align: right;\n",
       "    }\n",
       "</style>\n",
       "<table border=\"1\" class=\"dataframe\">\n",
       "  <thead>\n",
       "    <tr style=\"text-align: right;\">\n",
       "      <th></th>\n",
       "      <th>Number_of_Days_until_Payment</th>\n",
       "    </tr>\n",
       "    <tr>\n",
       "      <th>Vendor_Name</th>\n",
       "      <th></th>\n",
       "    </tr>\n",
       "  </thead>\n",
       "  <tbody>\n",
       "    <tr>\n",
       "      <th>Aaron Hoffman</th>\n",
       "      <td>4.0</td>\n",
       "    </tr>\n",
       "    <tr>\n",
       "      <th>Aaron Murphy</th>\n",
       "      <td>36.0</td>\n",
       "    </tr>\n",
       "    <tr>\n",
       "      <th>Aaron Parks</th>\n",
       "      <td>31.0</td>\n",
       "    </tr>\n",
       "    <tr>\n",
       "      <th>Aaron Thomas</th>\n",
       "      <td>35.0</td>\n",
       "    </tr>\n",
       "    <tr>\n",
       "      <th>Abigail Hernandez</th>\n",
       "      <td>48.0</td>\n",
       "    </tr>\n",
       "  </tbody>\n",
       "</table>\n",
       "</div>"
      ],
      "text/plain": [
       "                   Number_of_Days_until_Payment\n",
       "Vendor_Name                                    \n",
       "Aaron Hoffman                               4.0\n",
       "Aaron Murphy                               36.0\n",
       "Aaron Parks                                31.0\n",
       "Aaron Thomas                               35.0\n",
       "Abigail Hernandez                          48.0"
      ]
     },
     "execution_count": 47,
     "metadata": {},
     "output_type": "execute_result"
    }
   ],
   "source": [
    "pred.head()"
   ]
  },
  {
   "cell_type": "code",
   "execution_count": 48,
   "id": "4dafdc22",
   "metadata": {},
   "outputs": [],
   "source": [
    "pred.to_csv('submission.csv')"
   ]
  },
  {
   "cell_type": "code",
   "execution_count": null,
   "id": "40def545",
   "metadata": {},
   "outputs": [],
   "source": []
  }
 ],
 "metadata": {
  "kernelspec": {
   "display_name": "Python 3 (ipykernel)",
   "language": "python",
   "name": "python3"
  },
  "language_info": {
   "codemirror_mode": {
    "name": "ipython",
    "version": 3
   },
   "file_extension": ".py",
   "mimetype": "text/x-python",
   "name": "python",
   "nbconvert_exporter": "python",
   "pygments_lexer": "ipython3",
   "version": "3.9.7"
  }
 },
 "nbformat": 4,
 "nbformat_minor": 5
}
